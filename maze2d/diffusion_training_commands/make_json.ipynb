{
 "cells": [
  {
   "cell_type": "code",
   "execution_count": 3,
   "metadata": {},
   "outputs": [],
   "source": [
    "import json"
   ]
  },
  {
   "cell_type": "code",
   "execution_count": 1,
   "metadata": {},
   "outputs": [],
   "source": [
    "suf = \" --dataset_size 10m --version v1 --n_train_steps 500000 --gradient_accumulate_every 1 --batch_size 128 --horizon 256 --n_diffusion_steps 100 --buffer_dir ./d4rl_preprocessed_buffers --logbase ./maze-experiments\"\n",
    "pref = \"python scripts/train.py\"\n",
    "\n",
    "datasets = [\n",
    "    \"maze2d-open-v0\",\n",
    "    \"maze2d-umaze-v0\",\n",
    "    \"maze2d-medium-v1\",\n",
    "    \"maze2d-large-v1\"\n",
    "]\n",
    "\n",
    "goals = [\"general\", *[f\"goal{i+1}\" for i in range(8)]]\n",
    "\n",
    "jsons = {\n",
    "    dataset: {goal:f\"{pref} --dataset {dataset} --goal {goal} {suf}\" for goal in goals}\n",
    "    for dataset in datasets\n",
    "}"
   ]
  },
  {
   "cell_type": "code",
   "execution_count": 5,
   "metadata": {},
   "outputs": [],
   "source": [
    "for dataset in datasets:\n",
    "    filename = f\"{dataset}.json\"\n",
    "    with open(filename, 'w') as f:\n",
    "        json.dump(jsons[dataset], f, indent=4)"
   ]
  },
  {
   "cell_type": "code",
   "execution_count": 6,
   "metadata": {},
   "outputs": [
    {
     "data": {
      "text/plain": [
       "'maze2d-open-v0, maze2d-umaze-v0, maze2d-medium-v1, maze2d-large-v1'"
      ]
     },
     "execution_count": 6,
     "metadata": {},
     "output_type": "execute_result"
    }
   ],
   "source": [
    "\", \".join(datasets)"
   ]
  },
  {
   "cell_type": "code",
   "execution_count": null,
   "metadata": {},
   "outputs": [],
   "source": []
  }
 ],
 "metadata": {
  "kernelspec": {
   "display_name": "maze_env_diffuser",
   "language": "python",
   "name": "python3"
  },
  "language_info": {
   "codemirror_mode": {
    "name": "ipython",
    "version": 3
   },
   "file_extension": ".py",
   "mimetype": "text/x-python",
   "name": "python",
   "nbconvert_exporter": "python",
   "pygments_lexer": "ipython3",
   "version": "3.8.18"
  }
 },
 "nbformat": 4,
 "nbformat_minor": 2
}
