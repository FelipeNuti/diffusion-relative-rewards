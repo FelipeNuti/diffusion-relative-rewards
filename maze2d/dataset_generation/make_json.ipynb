{
 "cells": [
  {
   "cell_type": "code",
   "execution_count": 1,
   "metadata": {},
   "outputs": [],
   "source": [
    "import json"
   ]
  },
  {
   "cell_type": "code",
   "execution_count": 4,
   "metadata": {},
   "outputs": [],
   "source": [
    "suf = \" --dataset_size 10m --version v1 --horizon 256 --datadir ./d4rl_datasets --savedir ./d4rl_preprocessed_buffers\"\n",
    "pref = \"python ./diffuser/rrf_diffusion/preprocess_dataset.py\"\n",
    "\n",
    "datasets = [\n",
    "    \"maze2d-open-v0\",\n",
    "    \"maze2d-umaze-v0\",\n",
    "    \"maze2d-medium-v1\",\n",
    "    \"maze2d-large-v1\"\n",
    "]\n",
    "\n",
    "goals = [\"general\", *[f\"goal{i+1}\" for i in range(8)]]\n",
    "\n",
    "jsons = {\n",
    "    dataset: {goal:f\"{pref} --dataset {dataset} --goal {goal} {suf}\" for goal in goals}\n",
    "    for dataset in datasets\n",
    "}"
   ]
  },
  {
   "cell_type": "code",
   "execution_count": 5,
   "metadata": {},
   "outputs": [
    {
     "name": "stdout",
     "output_type": "stream",
     "text": [
      "{\n",
      "    \"maze2d-open-v0\": {\n",
      "        \"general\": \"python ./diffuser/rrf_diffusion/preprocess_dataset.py --dataset maze2d-open-v0 --goal general  --dataset_size 10m --version v1 --horizon 256 --datadir ./d4rl_datasets --savedir ./d4rl_preprocessed_buffers\",\n",
      "        \"goal1\": \"python ./diffuser/rrf_diffusion/preprocess_dataset.py --dataset maze2d-open-v0 --goal goal1  --dataset_size 10m --version v1 --horizon 256 --datadir ./d4rl_datasets --savedir ./d4rl_preprocessed_buffers\",\n",
      "        \"goal2\": \"python ./diffuser/rrf_diffusion/preprocess_dataset.py --dataset maze2d-open-v0 --goal goal2  --dataset_size 10m --version v1 --horizon 256 --datadir ./d4rl_datasets --savedir ./d4rl_preprocessed_buffers\",\n",
      "        \"goal3\": \"python ./diffuser/rrf_diffusion/preprocess_dataset.py --dataset maze2d-open-v0 --goal goal3  --dataset_size 10m --version v1 --horizon 256 --datadir ./d4rl_datasets --savedir ./d4rl_preprocessed_buffers\",\n",
      "        \"goal4\": \"python ./diffuser/rrf_diffusion/preprocess_dataset.py --dataset maze2d-open-v0 --goal goal4  --dataset_size 10m --version v1 --horizon 256 --datadir ./d4rl_datasets --savedir ./d4rl_preprocessed_buffers\",\n",
      "        \"goal5\": \"python ./diffuser/rrf_diffusion/preprocess_dataset.py --dataset maze2d-open-v0 --goal goal5  --dataset_size 10m --version v1 --horizon 256 --datadir ./d4rl_datasets --savedir ./d4rl_preprocessed_buffers\",\n",
      "        \"goal6\": \"python ./diffuser/rrf_diffusion/preprocess_dataset.py --dataset maze2d-open-v0 --goal goal6  --dataset_size 10m --version v1 --horizon 256 --datadir ./d4rl_datasets --savedir ./d4rl_preprocessed_buffers\",\n",
      "        \"goal7\": \"python ./diffuser/rrf_diffusion/preprocess_dataset.py --dataset maze2d-open-v0 --goal goal7  --dataset_size 10m --version v1 --horizon 256 --datadir ./d4rl_datasets --savedir ./d4rl_preprocessed_buffers\",\n",
      "        \"goal8\": \"python ./diffuser/rrf_diffusion/preprocess_dataset.py --dataset maze2d-open-v0 --goal goal8  --dataset_size 10m --version v1 --horizon 256 --datadir ./d4rl_datasets --savedir ./d4rl_preprocessed_buffers\"\n",
      "    },\n",
      "    \"maze2d-umaze-v0\": {\n",
      "        \"general\": \"python ./diffuser/rrf_diffusion/preprocess_dataset.py --dataset maze2d-umaze-v0 --goal general  --dataset_size 10m --version v1 --horizon 256 --datadir ./d4rl_datasets --savedir ./d4rl_preprocessed_buffers\",\n",
      "        \"goal1\": \"python ./diffuser/rrf_diffusion/preprocess_dataset.py --dataset maze2d-umaze-v0 --goal goal1  --dataset_size 10m --version v1 --horizon 256 --datadir ./d4rl_datasets --savedir ./d4rl_preprocessed_buffers\",\n",
      "        \"goal2\": \"python ./diffuser/rrf_diffusion/preprocess_dataset.py --dataset maze2d-umaze-v0 --goal goal2  --dataset_size 10m --version v1 --horizon 256 --datadir ./d4rl_datasets --savedir ./d4rl_preprocessed_buffers\",\n",
      "        \"goal3\": \"python ./diffuser/rrf_diffusion/preprocess_dataset.py --dataset maze2d-umaze-v0 --goal goal3  --dataset_size 10m --version v1 --horizon 256 --datadir ./d4rl_datasets --savedir ./d4rl_preprocessed_buffers\",\n",
      "        \"goal4\": \"python ./diffuser/rrf_diffusion/preprocess_dataset.py --dataset maze2d-umaze-v0 --goal goal4  --dataset_size 10m --version v1 --horizon 256 --datadir ./d4rl_datasets --savedir ./d4rl_preprocessed_buffers\",\n",
      "        \"goal5\": \"python ./diffuser/rrf_diffusion/preprocess_dataset.py --dataset maze2d-umaze-v0 --goal goal5  --dataset_size 10m --version v1 --horizon 256 --datadir ./d4rl_datasets --savedir ./d4rl_preprocessed_buffers\",\n",
      "        \"goal6\": \"python ./diffuser/rrf_diffusion/preprocess_dataset.py --dataset maze2d-umaze-v0 --goal goal6  --dataset_size 10m --version v1 --horizon 256 --datadir ./d4rl_datasets --savedir ./d4rl_preprocessed_buffers\",\n",
      "        \"goal7\": \"python ./diffuser/rrf_diffusion/preprocess_dataset.py --dataset maze2d-umaze-v0 --goal goal7  --dataset_size 10m --version v1 --horizon 256 --datadir ./d4rl_datasets --savedir ./d4rl_preprocessed_buffers\",\n",
      "        \"goal8\": \"python ./diffuser/rrf_diffusion/preprocess_dataset.py --dataset maze2d-umaze-v0 --goal goal8  --dataset_size 10m --version v1 --horizon 256 --datadir ./d4rl_datasets --savedir ./d4rl_preprocessed_buffers\"\n",
      "    },\n",
      "    \"maze2d-medium-v1\": {\n",
      "        \"general\": \"python ./diffuser/rrf_diffusion/preprocess_dataset.py --dataset maze2d-medium-v1 --goal general  --dataset_size 10m --version v1 --horizon 256 --datadir ./d4rl_datasets --savedir ./d4rl_preprocessed_buffers\",\n",
      "        \"goal1\": \"python ./diffuser/rrf_diffusion/preprocess_dataset.py --dataset maze2d-medium-v1 --goal goal1  --dataset_size 10m --version v1 --horizon 256 --datadir ./d4rl_datasets --savedir ./d4rl_preprocessed_buffers\",\n",
      "        \"goal2\": \"python ./diffuser/rrf_diffusion/preprocess_dataset.py --dataset maze2d-medium-v1 --goal goal2  --dataset_size 10m --version v1 --horizon 256 --datadir ./d4rl_datasets --savedir ./d4rl_preprocessed_buffers\",\n",
      "        \"goal3\": \"python ./diffuser/rrf_diffusion/preprocess_dataset.py --dataset maze2d-medium-v1 --goal goal3  --dataset_size 10m --version v1 --horizon 256 --datadir ./d4rl_datasets --savedir ./d4rl_preprocessed_buffers\",\n",
      "        \"goal4\": \"python ./diffuser/rrf_diffusion/preprocess_dataset.py --dataset maze2d-medium-v1 --goal goal4  --dataset_size 10m --version v1 --horizon 256 --datadir ./d4rl_datasets --savedir ./d4rl_preprocessed_buffers\",\n",
      "        \"goal5\": \"python ./diffuser/rrf_diffusion/preprocess_dataset.py --dataset maze2d-medium-v1 --goal goal5  --dataset_size 10m --version v1 --horizon 256 --datadir ./d4rl_datasets --savedir ./d4rl_preprocessed_buffers\",\n",
      "        \"goal6\": \"python ./diffuser/rrf_diffusion/preprocess_dataset.py --dataset maze2d-medium-v1 --goal goal6  --dataset_size 10m --version v1 --horizon 256 --datadir ./d4rl_datasets --savedir ./d4rl_preprocessed_buffers\",\n",
      "        \"goal7\": \"python ./diffuser/rrf_diffusion/preprocess_dataset.py --dataset maze2d-medium-v1 --goal goal7  --dataset_size 10m --version v1 --horizon 256 --datadir ./d4rl_datasets --savedir ./d4rl_preprocessed_buffers\",\n",
      "        \"goal8\": \"python ./diffuser/rrf_diffusion/preprocess_dataset.py --dataset maze2d-medium-v1 --goal goal8  --dataset_size 10m --version v1 --horizon 256 --datadir ./d4rl_datasets --savedir ./d4rl_preprocessed_buffers\"\n",
      "    },\n",
      "    \"maze2d-large-v1\": {\n",
      "        \"general\": \"python ./diffuser/rrf_diffusion/preprocess_dataset.py --dataset maze2d-large-v1 --goal general  --dataset_size 10m --version v1 --horizon 256 --datadir ./d4rl_datasets --savedir ./d4rl_preprocessed_buffers\",\n",
      "        \"goal1\": \"python ./diffuser/rrf_diffusion/preprocess_dataset.py --dataset maze2d-large-v1 --goal goal1  --dataset_size 10m --version v1 --horizon 256 --datadir ./d4rl_datasets --savedir ./d4rl_preprocessed_buffers\",\n",
      "        \"goal2\": \"python ./diffuser/rrf_diffusion/preprocess_dataset.py --dataset maze2d-large-v1 --goal goal2  --dataset_size 10m --version v1 --horizon 256 --datadir ./d4rl_datasets --savedir ./d4rl_preprocessed_buffers\",\n",
      "        \"goal3\": \"python ./diffuser/rrf_diffusion/preprocess_dataset.py --dataset maze2d-large-v1 --goal goal3  --dataset_size 10m --version v1 --horizon 256 --datadir ./d4rl_datasets --savedir ./d4rl_preprocessed_buffers\",\n",
      "        \"goal4\": \"python ./diffuser/rrf_diffusion/preprocess_dataset.py --dataset maze2d-large-v1 --goal goal4  --dataset_size 10m --version v1 --horizon 256 --datadir ./d4rl_datasets --savedir ./d4rl_preprocessed_buffers\",\n",
      "        \"goal5\": \"python ./diffuser/rrf_diffusion/preprocess_dataset.py --dataset maze2d-large-v1 --goal goal5  --dataset_size 10m --version v1 --horizon 256 --datadir ./d4rl_datasets --savedir ./d4rl_preprocessed_buffers\",\n",
      "        \"goal6\": \"python ./diffuser/rrf_diffusion/preprocess_dataset.py --dataset maze2d-large-v1 --goal goal6  --dataset_size 10m --version v1 --horizon 256 --datadir ./d4rl_datasets --savedir ./d4rl_preprocessed_buffers\",\n",
      "        \"goal7\": \"python ./diffuser/rrf_diffusion/preprocess_dataset.py --dataset maze2d-large-v1 --goal goal7  --dataset_size 10m --version v1 --horizon 256 --datadir ./d4rl_datasets --savedir ./d4rl_preprocessed_buffers\",\n",
      "        \"goal8\": \"python ./diffuser/rrf_diffusion/preprocess_dataset.py --dataset maze2d-large-v1 --goal goal8  --dataset_size 10m --version v1 --horizon 256 --datadir ./d4rl_datasets --savedir ./d4rl_preprocessed_buffers\"\n",
      "    }\n",
      "}\n"
     ]
    }
   ],
   "source": [
    "print(json.dumps(jsons, indent=4))"
   ]
  },
  {
   "cell_type": "code",
   "execution_count": 5,
   "metadata": {},
   "outputs": [],
   "source": [
    "for dataset in datasets:\n",
    "    filename = f\"{dataset}.json\"\n",
    "    with open(filename, 'w') as f:\n",
    "        json.dump(jsons[dataset], f, indent=4)"
   ]
  },
  {
   "cell_type": "code",
   "execution_count": 6,
   "metadata": {},
   "outputs": [
    {
     "data": {
      "text/plain": [
       "'maze2d-open-v0, maze2d-umaze-v0, maze2d-medium-v1, maze2d-large-v1'"
      ]
     },
     "execution_count": 6,
     "metadata": {},
     "output_type": "execute_result"
    }
   ],
   "source": [
    "\", \".join(datasets)"
   ]
  },
  {
   "cell_type": "code",
   "execution_count": null,
   "metadata": {},
   "outputs": [],
   "source": []
  }
 ],
 "metadata": {
  "kernelspec": {
   "display_name": "maze_env_diffuser",
   "language": "python",
   "name": "python3"
  },
  "language_info": {
   "codemirror_mode": {
    "name": "ipython",
    "version": 3
   },
   "file_extension": ".py",
   "mimetype": "text/x-python",
   "name": "python",
   "nbconvert_exporter": "python",
   "pygments_lexer": "ipython3",
   "version": "3.8.18"
  }
 },
 "nbformat": 4,
 "nbformat_minor": 2
}
